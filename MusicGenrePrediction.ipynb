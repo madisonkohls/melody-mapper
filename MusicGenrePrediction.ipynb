{
  "nbformat": 4,
  "nbformat_minor": 0,
  "metadata": {
    "colab": {
      "name": "MusicGenrePrediction.ipynb",
      "provenance": [],
      "authorship_tag": "ABX9TyPaJbGffuJm25T56NQTOkTv"
    },
    "kernelspec": {
      "name": "python3",
      "display_name": "Python 3"
    }
  },
  "cells": [
    {
      "cell_type": "code",
      "metadata": {
        "colab": {
          "base_uri": "https://localhost:8080/"
        },
        "id": "O4peP6aovv_b",
        "outputId": "9b567c6e-6f38-458c-afcf-395833d63a23"
      },
      "source": [
        "import pandas as pd\n",
        "import requests\n",
        "import io\n",
        "import numpy\n",
        "from sklearn.model_selection import train_test_split\n",
        "from sklearn.feature_selection import SelectFromModel\n",
        "from sklearn.linear_model import LogisticRegression\n",
        "import random\n",
        "\n",
        "url = \"https://raw.githubusercontent.com/the-data-science-union/DSU-W21-Personality/main/cleaned_youngpeople_data.csv\" # Make sure the url is the raw version of the file on GitHub\n",
        "download = requests.get(url).content\n",
        "personality_questions = pd.read_csv(io.StringIO(download.decode('utf-8')))\n",
        "\n",
        "personality_questions['Country'] = round((personality_questions['Country'] + personality_questions['Folk']) / 2)\n",
        "personality_questions['Rock'] = round((personality_questions['Rock'] + personality_questions['Rock n roll']+personality_questions['Alternative'] + personality_questions['Punk'] + personality_questions['Metal or Hardrock']) / 5)\n",
        "personality_questions['Classical music'] = round((personality_questions['Classical music'] + personality_questions['Opera'] + personality_questions['Swing, Jazz']) / 3)\n",
        "personality_questions['Dance'] = round((personality_questions['Dance'] + personality_questions['Techno, Trance']) / 2)\n",
        "personality_questions['Top Genre'] = personality_questions[['Dance', 'Country', 'Classical music', 'Pop', \n",
        "                                                            'Rock', 'Hiphop, Rap', 'Latino']].idxmax(axis=1)\n",
        "\n",
        "print(personality_questions.groupby(\"Top Genre\").count())\n",
        "personality_questions=personality_questions.drop(columns=['Music', 'Slow songs or fast songs', 'Folk',\n",
        "       'Musical', 'Pop', 'Metal or Hardrock',\n",
        "       'Punk', 'Hiphop, Rap', 'Reggae, Ska', 'Swing, Jazz', 'Rock n roll',\n",
        "       'Latino', 'Techno, Trance', 'Opera'])\n",
        "\n",
        "personality_questions= personality_questions.drop(columns=['Dance', 'Country', 'Classical music','Rock', \n",
        "                                                           'Alternative', 'Village - town', 'House - block of flats', \n",
        "                                                           'Left - right handed', 'Education', 'Gender', 'Lying', \n",
        "                                                           'Punctuality', 'Only child', 'Internet usage', 'Smoking', 'Alcohol'])\n",
        "\n",
        "X=personality_questions.drop(columns=['Top Genre'])\n",
        "Y=personality_questions[['Top Genre']]\n",
        "X_train, X_test, y_train, y_test = train_test_split(X, Y, test_size=0.2)\n",
        "X_train = X_train.to_numpy()\n",
        "y_train = y_train.to_numpy()\n",
        "X_test = X_test.to_numpy()\n",
        "y_test = y_test.to_numpy()\n",
        "clf = LogisticRegression(random_state=0).fit(X_train, y_train)\n",
        "\n",
        "model = SelectFromModel(clf, prefit=True,max_features=10)\n",
        "print(model.get_support(indices=True))\n",
        "print(personality_questions.columns[model.get_support(indices=True)])\n",
        "X_new = model.transform(X)\n",
        "\n",
        "X_train, X_test, y_train, y_test = train_test_split(X_new, personality_questions[['Top Genre']], test_size=0.2)\n",
        "\n",
        "y_train = y_train.to_numpy()\n",
        "y_test = y_test.to_numpy()\n",
        "clf = LogisticRegression(random_state=0).fit(X_train, y_train)\n",
        "\n",
        "print(clf.score(X_test, y_test))\n",
        "predictions = clf.predict(X_test)\n",
        "unique, counts = numpy.unique(predictions, return_counts=True)\n",
        "print(numpy.asarray((unique, counts)).T)\n",
        "print(clf.score(X_test, y_test))"
      ],
      "execution_count": 6,
      "outputs": [
        {
          "output_type": "stream",
          "text": [
            "                 Music  ...  House - block of flats\n",
            "Top Genre               ...                        \n",
            "Classical music     96  ...                      96\n",
            "Country             64  ...                      64\n",
            "Dance              180  ...                     180\n",
            "Hiphop, Rap        117  ...                     117\n",
            "Latino              71  ...                      71\n",
            "Pop                327  ...                     327\n",
            "Rock               122  ...                     122\n",
            "\n",
            "[7 rows x 150 columns]\n",
            "[ 5 11 22 28 31 32 40 42 67 82]\n",
            "Index(['Sci-fi', 'Action', 'Reading', 'Art exhibitions', 'Dancing',\n",
            "       'Musical instruments', 'Theatre', 'Adrenaline sports',\n",
            "       'Criminal damage', 'God'],\n",
            "      dtype='object')\n"
          ],
          "name": "stdout"
        },
        {
          "output_type": "stream",
          "text": [
            "/usr/local/lib/python3.7/dist-packages/sklearn/utils/validation.py:760: DataConversionWarning: A column-vector y was passed when a 1d array was expected. Please change the shape of y to (n_samples, ), for example using ravel().\n",
            "  y = column_or_1d(y, warn=True)\n",
            "/usr/local/lib/python3.7/dist-packages/sklearn/linear_model/_logistic.py:940: ConvergenceWarning: lbfgs failed to converge (status=1):\n",
            "STOP: TOTAL NO. of ITERATIONS REACHED LIMIT.\n",
            "\n",
            "Increase the number of iterations (max_iter) or scale the data as shown in:\n",
            "    https://scikit-learn.org/stable/modules/preprocessing.html\n",
            "Please also refer to the documentation for alternative solver options:\n",
            "    https://scikit-learn.org/stable/modules/linear_model.html#logistic-regression\n",
            "  extra_warning_msg=_LOGISTIC_SOLVER_CONVERGENCE_MSG)\n",
            "/usr/local/lib/python3.7/dist-packages/sklearn/utils/validation.py:760: DataConversionWarning: A column-vector y was passed when a 1d array was expected. Please change the shape of y to (n_samples, ), for example using ravel().\n",
            "  y = column_or_1d(y, warn=True)\n"
          ],
          "name": "stderr"
        },
        {
          "output_type": "stream",
          "text": [
            "0.4336734693877551\n",
            "[['Classical music' 19]\n",
            " ['Country' 5]\n",
            " ['Dance' 21]\n",
            " ['Hiphop, Rap' 8]\n",
            " ['Latino' 2]\n",
            " ['Pop' 131]\n",
            " ['Rock' 10]]\n",
            "0.4336734693877551\n"
          ],
          "name": "stdout"
        },
        {
          "output_type": "stream",
          "text": [
            "/usr/local/lib/python3.7/dist-packages/sklearn/linear_model/_logistic.py:940: ConvergenceWarning: lbfgs failed to converge (status=1):\n",
            "STOP: TOTAL NO. of ITERATIONS REACHED LIMIT.\n",
            "\n",
            "Increase the number of iterations (max_iter) or scale the data as shown in:\n",
            "    https://scikit-learn.org/stable/modules/preprocessing.html\n",
            "Please also refer to the documentation for alternative solver options:\n",
            "    https://scikit-learn.org/stable/modules/linear_model.html#logistic-regression\n",
            "  extra_warning_msg=_LOGISTIC_SOLVER_CONVERGENCE_MSG)\n"
          ],
          "name": "stderr"
        }
      ]
    }
  ]
}